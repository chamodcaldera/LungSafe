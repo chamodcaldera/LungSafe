{
  "nbformat": 4,
  "nbformat_minor": 0,
  "metadata": {
    "colab": {
      "provenance": [],
      "gpuType": "T4"
    },
    "kernelspec": {
      "name": "python3",
      "display_name": "Python 3"
    },
    "language_info": {
      "name": "python"
    },
    "accelerator": "GPU"
  },
  "cells": [
    {
      "cell_type": "code",
      "source": [
        "from google.colab import drive\n",
        "drive.mount('/content/drive')"
      ],
      "metadata": {
        "colab": {
          "base_uri": "https://localhost:8080/"
        },
        "id": "5g3jP5sD-OnP",
        "outputId": "f0d13933-c2e9-44e7-9953-fb90fdbc7547"
      },
      "execution_count": 1,
      "outputs": [
        {
          "output_type": "stream",
          "name": "stdout",
          "text": [
            "Mounted at /content/drive\n"
          ]
        }
      ]
    },
    {
      "cell_type": "code",
      "execution_count": 11,
      "metadata": {
        "id": "0kjYJOGy5MT2"
      },
      "outputs": [],
      "source": [
        "import numpy as np\n",
        "import os\n",
        "import matplotlib.pyplot as plt\n",
        "from sklearn.metrics import roc_curve, auc, precision_recall_curve, confusion_matrix, classification_report\n",
        "from sklearn.model_selection import StratifiedKFold\n",
        "import itertools\n",
        "import tensorflow as tf\n",
        "from tensorflow.keras.preprocessing.image import ImageDataGenerator\n",
        "from tensorflow.keras.applications.vgg16 import VGG16, preprocess_input\n",
        "from tensorflow.keras.layers import Flatten, Dense, Dropout\n",
        "from tensorflow.keras.models import Model\n",
        "from tensorflow.keras.optimizers import Adam\n",
        "from tensorflow.keras.callbacks import ModelCheckpoint, EarlyStopping, ReduceLROnPlateau\n",
        "import seaborn as sns\n",
        "import pandas as pd\n",
        "from sklearn.metrics import accuracy_score, f1_score, precision_score, confusion_matrix, roc_curve, auc, precision_recall_curve, average_precision_score,recall_score\n",
        "\n",
        "\n",
        "\n",
        "\n"
      ]
    },
    {
      "cell_type": "code",
      "source": [
        "# Data generators\n",
        "train_datagen = ImageDataGenerator(\n",
        "    rescale=1./255,\n",
        "    rotation_range=20,\n",
        "    width_shift_range=0.2,\n",
        "    height_shift_range=0.2,\n",
        "    shear_range=0.2,\n",
        "    zoom_range=0.2,\n",
        "    horizontal_flip=True,\n",
        "    fill_mode='nearest'\n",
        ")\n",
        "\n",
        "test_datagen = ImageDataGenerator(rescale=1./255)\n",
        "\n",
        "# Function to load image paths and labels\n",
        "def load_data_paths_labels(base_dir):\n",
        "    image_paths, labels = [], []\n",
        "    for category in ['Normal', 'Non-COVID']:\n",
        "        category_dir = os.path.join(base_dir, category, 'images')\n",
        "        for img_name in os.listdir(category_dir):\n",
        "            if img_name.lower().endswith(('.png', '.jpg', '.jpeg')) and not img_name.startswith('.'):\n",
        "                image_paths.append(os.path.join(category_dir, img_name))\n",
        "                labels.append(0 if category == 'Normal' else 1)\n",
        "    return image_paths, labels\n",
        "\n",
        "# Loading data paths and labels\n",
        "train_image_paths, train_labels = load_data_paths_labels('/content/drive/MyDrive/FYP/Dataset/Classification/Train')\n",
        "val_image_paths, val_labels = load_data_paths_labels('/content/drive/MyDrive/FYP/Dataset/Classification/Val')\n",
        "test_image_paths, test_labels = load_data_paths_labels('/content/drive/MyDrive/FYP/Dataset/Classification/Test')\n",
        "\n",
        "# Convert to DataFrame for flow_from_dataframe\n",
        "train_df = pd.DataFrame({'filename': train_image_paths, 'category': train_labels})\n",
        "val_df = pd.DataFrame({'filename': val_image_paths, 'category': val_labels})\n",
        "test_df = pd.DataFrame({'filename': test_image_paths, 'category': test_labels})\n",
        "\n",
        "# Convert 'category' to string labels\n",
        "train_df['category'] = train_df['category'].astype(str)\n",
        "val_df['category'] = val_df['category'].astype(str)\n",
        "test_df['category'] = test_df['category'].astype(str)"
      ],
      "metadata": {
        "id": "jhRX4KSPJgOV"
      },
      "execution_count": 3,
      "outputs": []
    },
    {
      "cell_type": "code",
      "source": [
        "import os\n",
        "\n",
        "train_datagen = ImageDataGenerator(\n",
        "    rescale=1./255,\n",
        "    rotation_range=20,\n",
        "    width_shift_range=0.2,\n",
        "    height_shift_range=0.2,\n",
        "    shear_range=0.2,\n",
        "    zoom_range=0.2,\n",
        "    horizontal_flip=True,\n",
        "    fill_mode='nearest'\n",
        ")\n",
        "\n",
        "\n",
        "def load_data_paths_labels_with_error_handling(base_dir):\n",
        "    \"\"\"\n",
        "    Loads image paths and labels from a directory structure, handling embedded null characters in paths.\n",
        "\n",
        "    Args:\n",
        "        base_dir (str): Path to the base directory containing subdirectories for each class.\n",
        "\n",
        "    Returns:\n",
        "        tuple: A tuple containing two NumPy arrays: image paths and labels.\n",
        "\n",
        "    Raises:\n",
        "        ValueError: If an error is encountered while processing files or if no images are found.\n",
        "    \"\"\"\n",
        "\n",
        "    image_paths = []\n",
        "    labels = []\n",
        "\n",
        "    for category in ['Normal', 'Non-COVID']:\n",
        "        category_dir = os.path.join(base_dir, category, 'images')\n",
        "\n",
        "        # Filter out any hidden files or directories with null characters\n",
        "        filtered_files = [f for f in os.listdir(category_dir)\n",
        "                          if not f.startswith('.') and '\\0' not in f]\n",
        "\n",
        "        if not filtered_files:\n",
        "            raise ValueError(f\"No images found in directory '{category_dir}'\")\n",
        "\n",
        "        for img_name in filtered_files:\n",
        "            image_path = os.path.join(category_dir, img_name)\n",
        "            image_paths.append(image_path)\n",
        "            labels.append(0 if category == 'Normal' else 1)\n",
        "\n",
        "    return np.array(image_paths), np.array(labels)\n",
        "\n",
        "# Example usage with error handling\n",
        "try:\n",
        "    train_image_paths, train_labels = load_data_paths_labels_with_error_handling('/content/drive/MyDrive/Final Year Project/FYP_Implemention/Dataset/Classification Data/Train')\n",
        "    val_image_paths, val_labels = load_data_paths_labels_with_error_handling('/content/drive/MyDrive/Final Year Project/FYP_Implemention/Dataset/Classification Data/Val')\n",
        "except ValueError as e:\n",
        "    print(f\"Error loading data: {e}\")\n",
        "    # Handle the error gracefully, e.g., exit or retry with a different path\n"
      ],
      "metadata": {
        "id": "0Qs2AtGmA6FP"
      },
      "execution_count": null,
      "outputs": []
    },
    {
      "cell_type": "code",
      "source": [
        "\n",
        "\n",
        "train_datagen = ImageDataGenerator(\n",
        "    rescale=1./255,\n",
        "    rotation_range=20,\n",
        "    width_shift_range=0.2,\n",
        "    height_shift_range=0.2,\n",
        "    shear_range=0.2,\n",
        "    zoom_range=0.2,\n",
        "    horizontal_flip=True,\n",
        "    fill_mode='nearest'\n",
        ")\n",
        "\n",
        "\n",
        "test_datagen = ImageDataGenerator(rescale=1./255)\n",
        "\n",
        "# Function to load image paths and labels\n",
        "def load_data_paths_labels(base_dir):\n",
        "    image_paths = []\n",
        "    labels = []  # 0 for Normal, 1 for Non-COVID (Pneumonia)\n",
        "\n",
        "    for category in ['Normal', 'Non-COVID']:\n",
        "        category_dir = os.path.join(base_dir, category, 'images')\n",
        "        for img_name in os.listdir(category_dir):\n",
        "            if img_name.startswith('.'):  # Skip hidden files\n",
        "                continue\n",
        "            image_paths.append(os.path.join(category_dir, img_name))\n",
        "            labels.append(0 if category == 'Normal' else 1)\n",
        "\n",
        "    return np.array(image_paths), np.array(labels)\n",
        "\n",
        "train_image_paths,train_labels = load_data_paths_labels('/content/drive/MyDrive/FYP/Dataset/Classification/Train')\n",
        "\n",
        "val_image_paths,val_labels = load_data_paths_labels('/content/drive/MyDrive/FYP/Dataset/Classification/Val')\n",
        "test_image_paths,test_labels = load_data_paths_labels('/content/drive/MyDrive/FYP/Dataset/Classification/Train')\n",
        "\n",
        "all_data = np.concatenate((train_image_paths, val_image_paths), axis=0)\n",
        "all_labels = np.concatenate((train_labels, val_labels), axis=0)\n",
        "\n"
      ],
      "metadata": {
        "id": "mftlSUngLy-F"
      },
      "execution_count": null,
      "outputs": []
    },
    {
      "cell_type": "code",
      "source": [
        "def custom_build_model():\n",
        "\n",
        "  base_model = VGG16(weights='imagenet', include_top=False, input_shape=(224, 224, 3))\n",
        "\n",
        "# Freeze the layers of the base model\n",
        "  for layer in base_model.layers:\n",
        "    layer.trainable = False\n",
        "\n",
        "  x = base_model.output\n",
        "  x = Flatten()(x)  # Flatten the output of the base model\n",
        "  x = Dense(512, activation='relu')(x)  # Add a fully-connected layer\n",
        "  x = Dropout(0.5)(x)  # Add dropout for regularization\n",
        "  predictions = Dense(1, activation='sigmoid')(x)\n",
        "\n",
        "  model = Model(inputs=base_model.input, outputs=predictions)\n",
        "  return model"
      ],
      "metadata": {
        "id": "tfTzri6EYZ4x"
      },
      "execution_count": 4,
      "outputs": []
    },
    {
      "cell_type": "code",
      "source": [
        "model = custom_build_model()\n",
        "model.compile(optimizer=Adam(learning_rate=0.0001), loss='binary_crossentropy', metrics=['accuracy'])\n",
        "model.summary()"
      ],
      "metadata": {
        "id": "HZ7E0AgybsmC",
        "colab": {
          "base_uri": "https://localhost:8080/"
        },
        "outputId": "33e0aafd-5fe2-4f7c-9d6c-a027c238a190"
      },
      "execution_count": 5,
      "outputs": [
        {
          "output_type": "stream",
          "name": "stdout",
          "text": [
            "Downloading data from https://storage.googleapis.com/tensorflow/keras-applications/vgg16/vgg16_weights_tf_dim_ordering_tf_kernels_notop.h5\n",
            "58889256/58889256 [==============================] - 0s 0us/step\n",
            "Model: \"model\"\n",
            "_________________________________________________________________\n",
            " Layer (type)                Output Shape              Param #   \n",
            "=================================================================\n",
            " input_1 (InputLayer)        [(None, 224, 224, 3)]     0         \n",
            "                                                                 \n",
            " block1_conv1 (Conv2D)       (None, 224, 224, 64)      1792      \n",
            "                                                                 \n",
            " block1_conv2 (Conv2D)       (None, 224, 224, 64)      36928     \n",
            "                                                                 \n",
            " block1_pool (MaxPooling2D)  (None, 112, 112, 64)      0         \n",
            "                                                                 \n",
            " block2_conv1 (Conv2D)       (None, 112, 112, 128)     73856     \n",
            "                                                                 \n",
            " block2_conv2 (Conv2D)       (None, 112, 112, 128)     147584    \n",
            "                                                                 \n",
            " block2_pool (MaxPooling2D)  (None, 56, 56, 128)       0         \n",
            "                                                                 \n",
            " block3_conv1 (Conv2D)       (None, 56, 56, 256)       295168    \n",
            "                                                                 \n",
            " block3_conv2 (Conv2D)       (None, 56, 56, 256)       590080    \n",
            "                                                                 \n",
            " block3_conv3 (Conv2D)       (None, 56, 56, 256)       590080    \n",
            "                                                                 \n",
            " block3_pool (MaxPooling2D)  (None, 28, 28, 256)       0         \n",
            "                                                                 \n",
            " block4_conv1 (Conv2D)       (None, 28, 28, 512)       1180160   \n",
            "                                                                 \n",
            " block4_conv2 (Conv2D)       (None, 28, 28, 512)       2359808   \n",
            "                                                                 \n",
            " block4_conv3 (Conv2D)       (None, 28, 28, 512)       2359808   \n",
            "                                                                 \n",
            " block4_pool (MaxPooling2D)  (None, 14, 14, 512)       0         \n",
            "                                                                 \n",
            " block5_conv1 (Conv2D)       (None, 14, 14, 512)       2359808   \n",
            "                                                                 \n",
            " block5_conv2 (Conv2D)       (None, 14, 14, 512)       2359808   \n",
            "                                                                 \n",
            " block5_conv3 (Conv2D)       (None, 14, 14, 512)       2359808   \n",
            "                                                                 \n",
            " block5_pool (MaxPooling2D)  (None, 7, 7, 512)         0         \n",
            "                                                                 \n",
            " flatten (Flatten)           (None, 25088)             0         \n",
            "                                                                 \n",
            " dense (Dense)               (None, 512)               12845568  \n",
            "                                                                 \n",
            " dropout (Dropout)           (None, 512)               0         \n",
            "                                                                 \n",
            " dense_1 (Dense)             (None, 1)                 513       \n",
            "                                                                 \n",
            "=================================================================\n",
            "Total params: 27560769 (105.14 MB)\n",
            "Trainable params: 12846081 (49.00 MB)\n",
            "Non-trainable params: 14714688 (56.13 MB)\n",
            "_________________________________________________________________\n"
          ]
        }
      ]
    },
    {
      "cell_type": "code",
      "source": [
        "batch_size = 32\n",
        "\n",
        "train_generator = train_datagen.flow_from_dataframe(\n",
        "    train_df,\n",
        "    x_col='filename',\n",
        "    y_col='category',\n",
        "    target_size=(224, 224),\n",
        "    class_mode='binary',\n",
        "    batch_size=batch_size,\n",
        "    prefetch=2,\n",
        "\n",
        ")\n",
        "\n",
        "val_generator = test_datagen.flow_from_dataframe(\n",
        "    val_df,\n",
        "    x_col='filename',\n",
        "    y_col='category',\n",
        "    target_size=(224, 224),\n",
        "    class_mode='binary',\n",
        "    batch_size=batch_size\n",
        ")\n",
        "\n",
        "# Callbacks\n",
        "checkpoint = ModelCheckpoint('/content/drive/MyDrive/FYP/Implemention/new_vgg16_pneumonia_detection.h5', monitor='val_accuracy', save_best_only=True, verbose=1)\n",
        "early_stopping = EarlyStopping(monitor='val_loss', patience=10, verbose=1)\n",
        "reduce_lr = ReduceLROnPlateau(monitor='val_loss', factor=0.1, patience=5, min_lr=0.00001, verbose=1)\n",
        "callbacks_list = [checkpoint, early_stopping, reduce_lr]"
      ],
      "metadata": {
        "colab": {
          "base_uri": "https://localhost:8080/"
        },
        "id": "9ptaXQOJCj4h",
        "outputId": "a2de6c4c-dd30-4666-d517-e4aaf8317e0d"
      },
      "execution_count": 6,
      "outputs": [
        {
          "output_type": "stream",
          "name": "stdout",
          "text": [
            "Found 14057 validated image filenames belonging to 2 classes.\n",
            "Found 3514 validated image filenames belonging to 2 classes.\n"
          ]
        }
      ]
    },
    {
      "cell_type": "code",
      "source": [
        "model.fit(\n",
        "    train_generator,\n",
        "    steps_per_epoch=len(train_generator),\n",
        "    epochs=10,\n",
        "    validation_data=val_generator,\n",
        "    use_multiprocessing=True,\n",
        "    workers=4,\n",
        "    max_queue_size=10,\n",
        "    callbacks=callbacks_list,\n",
        "    verbose=1\n",
        "\n",
        ")\n"
      ],
      "metadata": {
        "colab": {
          "base_uri": "https://localhost:8080/"
        },
        "id": "IYntyaVhCrpg",
        "outputId": "5b873105-bcae-4089-b134-cd7c018d0233"
      },
      "execution_count": 8,
      "outputs": [
        {
          "output_type": "stream",
          "name": "stdout",
          "text": [
            "Epoch 1/10\n",
            "440/440 [==============================] - ETA: 0s - loss: 0.5647 - accuracy: 0.7009\n",
            "Epoch 1: val_accuracy improved from -inf to 0.78002, saving model to /content/drive/MyDrive/FYP/Implemention/new_vgg16_pneumonia_detection.h5\n"
          ]
        },
        {
          "output_type": "stream",
          "name": "stderr",
          "text": [
            "/usr/local/lib/python3.10/dist-packages/keras/src/engine/training.py:3103: UserWarning: You are saving your model as an HDF5 file via `model.save()`. This file format is considered legacy. We recommend using instead the native Keras format, e.g. `model.save('my_model.keras')`.\n",
            "  saving_api.save_model(\n"
          ]
        },
        {
          "output_type": "stream",
          "name": "stdout",
          "text": [
            "\b\b\b\b\b\b\b\b\b\b\b\b\b\b\b\b\b\b\b\b\b\b\b\b\b\b\b\b\b\b\b\b\b\b\b\b\b\b\b\b\b\b\b\b\b\b\b\b\b\b\b\b\b\b\b\b\b\b\b\b\b\b\b\b\b\b\b\b\b\b\b\b\b\b\b\b\b\b\b\b\b\b\b\b\r440/440 [==============================] - 1573s 4s/step - loss: 0.5647 - accuracy: 0.7009 - val_loss: 0.4477 - val_accuracy: 0.7800 - lr: 1.0000e-04\n",
            "Epoch 2/10\n",
            "440/440 [==============================] - ETA: 0s - loss: 0.5056 - accuracy: 0.7514\n",
            "Epoch 2: val_accuracy did not improve from 0.78002\n",
            "440/440 [==============================] - 261s 590ms/step - loss: 0.5056 - accuracy: 0.7514 - val_loss: 0.4575 - val_accuracy: 0.7777 - lr: 1.0000e-04\n",
            "Epoch 3/10\n",
            "440/440 [==============================] - ETA: 0s - loss: 0.4879 - accuracy: 0.7677\n",
            "Epoch 3: val_accuracy improved from 0.78002 to 0.81673, saving model to /content/drive/MyDrive/FYP/Implemention/new_vgg16_pneumonia_detection.h5\n",
            "440/440 [==============================] - 273s 616ms/step - loss: 0.4879 - accuracy: 0.7677 - val_loss: 0.4071 - val_accuracy: 0.8167 - lr: 1.0000e-04\n",
            "Epoch 4/10\n",
            "440/440 [==============================] - ETA: 0s - loss: 0.4780 - accuracy: 0.7711\n",
            "Epoch 4: val_accuracy did not improve from 0.81673\n",
            "440/440 [==============================] - 266s 601ms/step - loss: 0.4780 - accuracy: 0.7711 - val_loss: 0.4224 - val_accuracy: 0.8017 - lr: 1.0000e-04\n",
            "Epoch 5/10\n",
            "440/440 [==============================] - ETA: 0s - loss: 0.4688 - accuracy: 0.7764\n",
            "Epoch 5: val_accuracy did not improve from 0.81673\n",
            "440/440 [==============================] - 257s 576ms/step - loss: 0.4688 - accuracy: 0.7764 - val_loss: 0.4610 - val_accuracy: 0.7803 - lr: 1.0000e-04\n",
            "Epoch 6/10\n",
            "440/440 [==============================] - ETA: 0s - loss: 0.4681 - accuracy: 0.7775\n",
            "Epoch 6: val_accuracy did not improve from 0.81673\n",
            "440/440 [==============================] - 249s 562ms/step - loss: 0.4681 - accuracy: 0.7775 - val_loss: 0.4113 - val_accuracy: 0.8167 - lr: 1.0000e-04\n",
            "Epoch 7/10\n",
            "440/440 [==============================] - ETA: 0s - loss: 0.4594 - accuracy: 0.7831\n",
            "Epoch 7: val_accuracy did not improve from 0.81673\n",
            "440/440 [==============================] - 253s 570ms/step - loss: 0.4594 - accuracy: 0.7831 - val_loss: 0.5167 - val_accuracy: 0.7453 - lr: 1.0000e-04\n",
            "Epoch 8/10\n",
            "440/440 [==============================] - ETA: 0s - loss: 0.4598 - accuracy: 0.7839\n",
            "Epoch 8: val_accuracy improved from 0.81673 to 0.83068, saving model to /content/drive/MyDrive/FYP/Implemention/new_vgg16_pneumonia_detection.h5\n",
            "440/440 [==============================] - 269s 606ms/step - loss: 0.4598 - accuracy: 0.7839 - val_loss: 0.3818 - val_accuracy: 0.8307 - lr: 1.0000e-04\n",
            "Epoch 9/10\n",
            "440/440 [==============================] - ETA: 0s - loss: 0.4549 - accuracy: 0.7865\n",
            "Epoch 9: val_accuracy did not improve from 0.83068\n",
            "440/440 [==============================] - 257s 580ms/step - loss: 0.4549 - accuracy: 0.7865 - val_loss: 0.3909 - val_accuracy: 0.8295 - lr: 1.0000e-04\n",
            "Epoch 10/10\n",
            "440/440 [==============================] - ETA: 0s - loss: 0.4558 - accuracy: 0.7886\n",
            "Epoch 10: val_accuracy did not improve from 0.83068\n",
            "440/440 [==============================] - 254s 572ms/step - loss: 0.4558 - accuracy: 0.7886 - val_loss: 0.3823 - val_accuracy: 0.8256 - lr: 1.0000e-04\n"
          ]
        },
        {
          "output_type": "execute_result",
          "data": {
            "text/plain": [
              "<keras.src.callbacks.History at 0x78430c5f7ca0>"
            ]
          },
          "metadata": {},
          "execution_count": 8
        }
      ]
    },
    {
      "cell_type": "code",
      "source": [
        "test_generator = test_datagen.flow_from_dataframe(\n",
        "    test_df,\n",
        "    x_col='filename',\n",
        "    y_col='category',\n",
        "    target_size=(224, 224),\n",
        "    class_mode='binary',\n",
        "    batch_size=batch_size,\n",
        "    shuffle=False\n",
        ")\n",
        "model_path = '/content/drive/MyDrive/FYP/Implemention/new_vgg16_pneumonia_detection.h5'\n",
        "\n",
        "# Load the model\n",
        "loaded_model = tf.keras.models.load_model(model_path)\n",
        "test_generator.reset()  # Resetting generator to ensure proper order\n",
        "predictions = loaded_model.predict(test_generator, steps=np.ceil(len(test_df)/batch_size))\n",
        "\n",
        "# Convert probabilities to binary predictions\n",
        "binary_predictions = [1 if x > 0.5 else 0 for x in predictions]"
      ],
      "metadata": {
        "colab": {
          "base_uri": "https://localhost:8080/"
        },
        "id": "MiIJdD_4chcO",
        "outputId": "86b50807-d6b3-477e-a412-b5c7a20c0964"
      },
      "execution_count": 9,
      "outputs": [
        {
          "output_type": "stream",
          "name": "stdout",
          "text": [
            "Found 4393 validated image filenames belonging to 2 classes.\n",
            "138/138 [==============================] - 1402s 10s/step\n"
          ]
        }
      ]
    },
    {
      "cell_type": "code",
      "source": [
        "true_labels = test_generator.classes\n",
        "\n",
        "\n",
        "accuracy = accuracy_score(true_labels, binary_predictions)\n",
        "f1 = f1_score(true_labels, binary_predictions)\n",
        "precision = precision_score(true_labels, binary_predictions)\n",
        "recall = recall_score(true_labels, binary_predictions)\n",
        "\n",
        "print(f'Accuracy: {accuracy:.4f}, F1 Score: {f1:.4f}, Precision: {precision:.4f}, Recall: {recall:.4f}')"
      ],
      "metadata": {
        "colab": {
          "base_uri": "https://localhost:8080/"
        },
        "id": "95GIfrE2cz6n",
        "outputId": "e87115f5-1ee5-443d-a3f4-a42553070eab"
      },
      "execution_count": 12,
      "outputs": [
        {
          "output_type": "stream",
          "name": "stdout",
          "text": [
            "Accuracy: 0.8231, F1 Score: 0.8339, Precision: 0.8042, Recall: 0.8660\n"
          ]
        }
      ]
    },
    {
      "cell_type": "code",
      "source": [
        "import os\n",
        "\n",
        "def count_files(directory):\n",
        "  \"\"\"\n",
        "  Counts the number of files in a directory recursively.\n",
        "\n",
        "  Args:\n",
        "      directory (str): Path to the directory.\n",
        "\n",
        "  Returns:\n",
        "      int: Total number of files in the directory.\n",
        "  \"\"\"\n",
        "  count = 0\n",
        "  for root, _, files in os.walk(directory):\n",
        "    for filename in files:\n",
        "      # Skip hidden files\n",
        "      if not filename.startswith('.'):\n",
        "        count += 1\n",
        "  return count\n"
      ],
      "metadata": {
        "id": "YsP3UhzNVf_t"
      },
      "execution_count": null,
      "outputs": []
    },
    {
      "cell_type": "code",
      "source": [
        "folder_path = '/content/drive/MyDrive/Final Year Project/FYP_Implemention/Dataset/dataMaskandImages/Lung Segmentation Data/Lung Segmentation Data/Train/Non-COVID/images'  # Replace with your actual path\n"
      ],
      "metadata": {
        "id": "Ve8xGPA1TS0p"
      },
      "execution_count": null,
      "outputs": []
    },
    {
      "cell_type": "code",
      "source": [
        "file_count = count_files(folder_path)\n",
        "print(f\"Number of files in '{folder_path}': {file_count}\")\n"
      ],
      "metadata": {
        "colab": {
          "base_uri": "https://localhost:8080/"
        },
        "id": "5mLDqwAeTV7j",
        "outputId": "f0e673d2-96fd-4e90-ad15-1124c46cd14f"
      },
      "execution_count": null,
      "outputs": [
        {
          "output_type": "stream",
          "name": "stdout",
          "text": [
            "Number of files in '/content/drive/MyDrive/Final Year Project/FYP_Implemention/Dataset/dataMaskandImages/Lung Segmentation Data/Lung Segmentation Data/Train/Non-COVID/images': 0\n"
          ]
        }
      ]
    },
    {
      "cell_type": "code",
      "source": [
        "test_generator = test_datagen.flow_from_dataframe(\n",
        "    test_df,\n",
        "    x_col='filename',\n",
        "    y_col='category',\n",
        "    target_size=(224, 224),\n",
        "    class_mode='binary',\n",
        "    batch_size=batch_size,\n",
        "    shuffle=False  # Important for evaluation to maintain order\n",
        ")\n",
        "model_path = '/content/drive/MyDrive/Final Year Project/FYP_Implemention/Model weights/new_vgg16_pneumonia_detection.h5'\n",
        "\n",
        "# Load the model\n",
        "loaded_model = tf.keras.models.load_model(model_path)\n",
        "test_generator.reset()  # Resetting generator to ensure proper order\n",
        "predictions = loaded_model.predict(test_generator, steps=np.ceil(len(test_df)/batch_size))\n",
        "\n",
        "# Convert probabilities to binary predictions (assuming 0.5 threshold)\n",
        "binary_predictions = [1 if x > 0.5 else 0 for x in predictions]"
      ],
      "metadata": {
        "id": "su-x78g4J-Ru"
      },
      "execution_count": null,
      "outputs": []
    },
    {
      "cell_type": "code",
      "source": [
        "true_labels = test_generator.classes\n",
        "\n",
        "# Metrics\n",
        "accuracy = accuracy_score(true_labels, binary_predictions)\n",
        "f1 = f1_score(true_labels, binary_predictions)\n",
        "precision = precision_score(true_labels, binary_predictions)\n",
        "recall = recall_score(true_labels, binary_predictions)\n",
        "\n",
        "print(f'Accuracy: {accuracy:.4f}, F1 Score: {f1:.4f}, Precision: {precision:.4f}, Recall: {recall:.4f}')"
      ],
      "metadata": {
        "id": "c7L3Jd6bKBkx"
      },
      "execution_count": null,
      "outputs": []
    },
    {
      "cell_type": "code",
      "source": [
        "import seaborn as sns\n",
        "import matplotlib.pyplot as plt\n",
        "from sklearn.metrics import confusion_matrix\n",
        "\n",
        "def plot_confusion_matrix(true_labels, predictions, class_names):\n",
        "    \"\"\"\n",
        "    This function plots the confusion matrix.\n",
        "\n",
        "    Parameters:\n",
        "    - true_labels: The ground truth labels.\n",
        "    - predictions: The predicted labels by the model.\n",
        "    - class_names: A list of class names, in the order they index the matrix.\n",
        "    \"\"\"\n",
        "    cm = confusion_matrix(true_labels, predictions)\n",
        "    plt.figure(figsize=(8,6))\n",
        "    sns.heatmap(cm, annot=True, fmt=\"d\", linewidths=.5, square=True, cmap='Blues', annot_kws={\"size\": 20},\n",
        "                xticklabels=class_names, yticklabels=class_names)\n",
        "\n",
        "    plt.ylabel('Actual label')\n",
        "    plt.xlabel('Predicted label')\n",
        "    plt.title('Confusion Matrix', size = 15)\n",
        "    plt.show()\n",
        "\n",
        "plot_confusion_matrix(true_labels, binary_predictions, ['Normal', 'Pneumonia'])"
      ],
      "metadata": {
        "colab": {
          "base_uri": "https://localhost:8080/",
          "height": 566
        },
        "id": "aNBKgQVDKJCA",
        "outputId": "2e03da13-62c2-4069-8ab8-d6236dfc6bb1"
      },
      "execution_count": 13,
      "outputs": [
        {
          "output_type": "display_data",
          "data": {
            "text/plain": [
              "<Figure size 800x600 with 2 Axes>"
            ],
            "image/png": "[encoded data removed]"
          },
          "metadata": {}
        }
      ]
    },
    {
      "cell_type": "code",
      "source": [
        "def plot_roc_curve(true_labels, predictions):\n",
        "    \"\"\"\n",
        "    This function plots the ROC curve and shows the AUC score.\n",
        "\n",
        "    Parameters:\n",
        "    - true_labels: The ground truth binary labels.\n",
        "    - predictions: The raw output probabilities from the model for the positive class.\n",
        "    \"\"\"\n",
        "    fpr, tpr, _ = roc_curve(true_labels, predictions)\n",
        "    roc_auc = auc(fpr, tpr)\n",
        "\n",
        "    plt.figure(figsize=(8, 6))\n",
        "    plt.plot(fpr, tpr, color='darkorange', lw=2, label='ROC curve (area = %0.2f)' % roc_auc)\n",
        "    plt.plot([0, 1], [0, 1], color='navy', lw=2, linestyle='--')\n",
        "    plt.xlim([0.0, 1.0])\n",
        "    plt.ylim([0.0, 1.05])\n",
        "    plt.xlabel('False Positive Rate')\n",
        "    plt.ylabel('True Positive Rate')\n",
        "    plt.title('Receiver Operating Characteristic (ROC) Curve')\n",
        "    plt.legend(loc=\"lower right\")\n",
        "    plt.show()\n",
        "plot_roc_curve(true_labels, predictions.ravel())"
      ],
      "metadata": {
        "colab": {
          "base_uri": "https://localhost:8080/",
          "height": 564
        },
        "id": "VCoqyQUqKMYF",
        "outputId": "b7c2d534-fed9-405d-969b-cd64e420b7ef"
      },
      "execution_count": 14,
      "outputs": [
        {
          "output_type": "display_data",
          "data": {
            "text/plain": [
              "<Figure size 800x600 with 1 Axes>"
            ],
            "image/png": "[encoded data removed]"
          },
          "metadata": {}
        }
      ]
    },
    {
      "cell_type": "code",
      "source": [
        "import matplotlib.pyplot as plt\n",
        "from sklearn.metrics import precision_recall_curve, average_precision_score\n",
        "\n",
        "def plot_precision_recall_curve(true_labels, predictions):\n",
        "    \"\"\"\n",
        "    This function plots the Precision-Recall Curve.\n",
        "\n",
        "    Parameters:\n",
        "    - true_labels: Ground truth binary labels.\n",
        "    - predictions: Predicted probabilities for the positive class.\n",
        "    \"\"\"\n",
        "    precision, recall, _ = precision_recall_curve(true_labels, predictions)\n",
        "    average_precision = average_precision_score(true_labels, predictions)\n",
        "\n",
        "    plt.figure(figsize=(8, 6))\n",
        "    plt.step(recall, precision, where='post', color='b', alpha=0.7, label=f'Average Precision (AP) = {average_precision:.2f}')\n",
        "    plt.fill_between(recall, precision, step='post', alpha=0.3, color='b')\n",
        "    plt.xlabel('Recall')\n",
        "    plt.ylabel('Precision')\n",
        "    plt.ylim([0.0, 1.05])\n",
        "    plt.xlim([0.0, 1.0])\n",
        "    plt.title('2-class Precision-Recall Curve')\n",
        "    plt.legend(loc=\"upper right\")\n",
        "    plt.show()\n",
        "plot_precision_recall_curve(true_labels, predictions)"
      ],
      "metadata": {
        "colab": {
          "base_uri": "https://localhost:8080/",
          "height": 564
        },
        "id": "hFiiFvGJKPe6",
        "outputId": "71d677ee-d12c-4aa7-9706-49a449dd5d1a"
      },
      "execution_count": 15,
      "outputs": [
        {
          "output_type": "display_data",
          "data": {
            "text/plain": [
              "<Figure size 800x600 with 1 Axes>"
            ],
            "image/png": "[encoded data removed]"
          },
          "metadata": {}
        }
      ]
    },
    {
      "cell_type": "code",
      "source": [
        "def plot_training_history(history):\n",
        "    # Plot training & validation accuracy values\n",
        "    plt.figure(figsize=(12, 5))\n",
        "    plt.subplot(1, 2, 1)\n",
        "    plt.plot(history.history['accuracy'])\n",
        "    plt.plot(history.history['val_accuracy'])\n",
        "    plt.title('Model accuracy')\n",
        "    plt.ylabel('Accuracy')\n",
        "    plt.xlabel('Epoch')\n",
        "    plt.legend(['Train', 'Val'], loc='upper left')\n",
        "\n",
        "    # Plot training & validation loss values\n",
        "    plt.subplot(1, 2, 2)\n",
        "    plt.plot(history.history['loss'])\n",
        "    plt.plot(history.history['val_loss'])\n",
        "    plt.title('Model loss')\n",
        "    plt.ylabel('Loss')\n",
        "    plt.xlabel('Epoch')\n",
        "    plt.legend(['Train', 'Val'], loc='upper left')\n",
        "    plt.show()\n",
        "\n",
        "plot_training_history(history)\n"
      ],
      "metadata": {
        "colab": {
          "base_uri": "https://localhost:8080/",
          "height": 176
        },
        "id": "nO8e49K5jfYu",
        "outputId": "f7858a40-7575-482c-f4b5-31f32ae2a88f"
      },
      "execution_count": 16,
      "outputs": [
        {
          "output_type": "error",
          "ename": "NameError",
          "evalue": "name 'history' is not defined",
          "traceback": [
            "\u001b[0;31m---------------------------------------------------------------------------\u001b[0m",
            "\u001b[0;31mNameError\u001b[0m                                 Traceback (most recent call last)",
            "\u001b[0;32m<ipython-input-16-a0b5346f7c95>\u001b[0m in \u001b[0;36m<cell line: 22>\u001b[0;34m()\u001b[0m\n\u001b[1;32m     20\u001b[0m     \u001b[0mplt\u001b[0m\u001b[0;34m.\u001b[0m\u001b[0mshow\u001b[0m\u001b[0;34m(\u001b[0m\u001b[0;34m)\u001b[0m\u001b[0;34m\u001b[0m\u001b[0;34m\u001b[0m\u001b[0m\n\u001b[1;32m     21\u001b[0m \u001b[0;34m\u001b[0m\u001b[0m\n\u001b[0;32m---> 22\u001b[0;31m \u001b[0mplot_training_history\u001b[0m\u001b[0;34m(\u001b[0m\u001b[0mhistory\u001b[0m\u001b[0;34m)\u001b[0m\u001b[0;34m\u001b[0m\u001b[0;34m\u001b[0m\u001b[0m\n\u001b[0m",
            "\u001b[0;31mNameError\u001b[0m: name 'history' is not defined"
          ]
        }
      ]
    }
  ]
}